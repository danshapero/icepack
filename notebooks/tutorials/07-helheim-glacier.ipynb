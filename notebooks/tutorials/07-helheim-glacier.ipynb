{
 "cells": [
  {
   "cell_type": "code",
   "execution_count": null,
   "metadata": {},
   "outputs": [],
   "source": [
    "import matplotlib.pyplot as plt\n",
    "import numpy as np\n",
    "import rasterio\n",
    "import geojson\n",
    "import firedrake\n",
    "import icepack, icepack.plot"
   ]
  },
  {
   "cell_type": "markdown",
   "metadata": {},
   "source": [
    "# Helheim Glacier\n",
    "\n",
    "In this demo we'll look at Helheim Glacier in southeast Greenland.\n",
    "Helheim is one of the bigger glaciers draining the Greenland Ice Sheet by mass flux along with Jakobshavn, Kangerdlugssuaq, Petermann, and the Northeast Greenland Ice Stream.\n",
    "Much of the procedure for working with real data should be familiar from the demo on [inverse problems](https://icepack.github.io/icepack.demo.04-ice-shelf-inverse.html), where we inferred the fluidity of the Larsen C Ice Shelf in the Antarctic Peninsula.\n",
    "Here we'll use many of the same techniques, only instead of inferring the fluidity, we'll look at the friction coefficient for glacier sliding over the underlying bedrock.\n",
    "In the following, we'll assume that ice flow is by Weertman sliding:\n",
    "\n",
    "$$\\tau_b = -C|u|^{\\frac{1}{m} - 1}u,$$\n",
    "\n",
    "where $\\tau_b$ is the basal shear stress, $u$ is the sliding velocity, $m \\approx 3$ is the friction exponent, and $C$ is the friction coefficient.\n",
    "First, we'll estimate the friction coefficient using a 2D, depth-averaged model.\n",
    "Then we'll use this solution as an initial guess using the 3D hybrid model that we showed in [this demo](https://icepack.github.io/icepack.demo.05-hybrid-ice-stream.html) for a synthetic ice stream."
   ]
  },
  {
   "cell_type": "markdown",
   "metadata": {},
   "source": [
    "### Input data\n",
    "\n",
    "Loading in the mesh and input data should be mostly familiar from the previous demos on Larsen C.\n",
    "We'll be using different data sets since we're looking at Greenland rather than Antarctica this time around."
   ]
  },
  {
   "cell_type": "code",
   "execution_count": null,
   "metadata": {},
   "outputs": [],
   "source": [
    "outline_filename = icepack.datasets.fetch_helheim_outline()\n",
    "with open(outline_filename, 'r') as outline_file:\n",
    "    outline = geojson.load(outline_file)\n",
    "\n",
    "geometry = icepack.meshing.collection_to_geo(outline, lcar=5e3)\n",
    "with open('helheim.geo', 'w') as geo_file:\n",
    "    geo_file.write(geometry.get_code())"
   ]
  },
  {
   "cell_type": "code",
   "execution_count": null,
   "metadata": {},
   "outputs": [],
   "source": [
    "!gmsh -2 -format msh2 -v 2 -o helheim.msh helheim.geo"
   ]
  },
  {
   "cell_type": "markdown",
   "metadata": {},
   "source": [
    "The initial mesh that we've generated is pretty coarse, so to get finer resolution we'll create a hierarchy of refined meshes.\n",
    "In our case the mesh hierarchy will only go one level deep, so each triangle has been cut into four similar triangles.\n",
    "Where possible, it's best to start with the coarsest mesh and refine up to the level you need; you can always make a small problem bigger, but it's hard to make a big problem smaller."
   ]
  },
  {
   "cell_type": "code",
   "execution_count": null,
   "metadata": {},
   "outputs": [],
   "source": [
    "mesh = firedrake.Mesh('helheim.msh')"
   ]
  },
  {
   "cell_type": "code",
   "execution_count": null,
   "metadata": {},
   "outputs": [],
   "source": [
    "fig, axes = icepack.plot.subplots()\n",
    "icepack.plot.triplot(mesh, axes=axes)\n",
    "axes.legend()"
   ]
  },
  {
   "cell_type": "code",
   "execution_count": null,
   "metadata": {},
   "outputs": [],
   "source": [
    "thickness_filename = icepack.datasets.fetch_bedmachine_greenland()\n",
    "thickness = rasterio.open(f'netcdf:{thickness_filename}:thickness', 'r')\n",
    "surface = rasterio.open(f'netcdf:{thickness_filename}:surface', 'r')\n",
    "\n",
    "degree = 2\n",
    "Q = firedrake.FunctionSpace(mesh, 'CG', degree)\n",
    "h_obs = icepack.interpolate(thickness, Q)\n",
    "s_obs = icepack.interpolate(surface, Q)\n",
    "\n",
    "from firedrake import inner, grad, dx\n",
    "def smooth(q_obs, α):\n",
    "    q = q_obs.copy(deepcopy=True)\n",
    "    J = 0.5 * ((q - q_obs)**2 + α**2 * inner(grad(q), grad(q))) * dx\n",
    "    F = firedrake.derivative(J, q)\n",
    "    firedrake.solve(F == 0, q)\n",
    "    return q\n",
    "\n",
    "α = firedrake.Constant(2e3)\n",
    "h = smooth(h_obs, α)\n",
    "s = smooth(s_obs, α)"
   ]
  },
  {
   "cell_type": "code",
   "execution_count": null,
   "metadata": {},
   "outputs": [],
   "source": [
    "fig, axes = icepack.plot.subplots()\n",
    "contours = icepack.plot.tricontourf(h, 40, axes=axes)\n",
    "fig.colorbar(contours)"
   ]
  },
  {
   "cell_type": "code",
   "execution_count": null,
   "metadata": {},
   "outputs": [],
   "source": [
    "fig, axes = icepack.plot.subplots()\n",
    "contours = icepack.plot.tricontourf(s, 40, axes=axes)\n",
    "fig.colorbar(contours)"
   ]
  },
  {
   "cell_type": "code",
   "execution_count": null,
   "metadata": {},
   "outputs": [],
   "source": [
    "velocity_filenames = icepack.datasets.fetch_measures_greenland()\n",
    "velocity_dict = {\n",
    "    key: [f for f in velocity_filenames if key in f][0]\n",
    "    for key in ['vx', 'vy', 'ex', 'ey']\n",
    "}\n",
    "vx = rasterio.open(velocity_dict['vx'], 'r')\n",
    "vy = rasterio.open(velocity_dict['vy'], 'r')\n",
    "ex = rasterio.open(velocity_dict['ex'], 'r')\n",
    "ey = rasterio.open(velocity_dict['ey'], 'r')"
   ]
  },
  {
   "cell_type": "code",
   "execution_count": null,
   "metadata": {},
   "outputs": [],
   "source": [
    "V = firedrake.VectorFunctionSpace(mesh, 'CG', degree)\n",
    "u_obs = icepack.interpolate((vx, vy), V)\n",
    "σx = icepack.interpolate(ex, Q)\n",
    "σy = icepack.interpolate(ey, Q)"
   ]
  },
  {
   "cell_type": "code",
   "execution_count": null,
   "metadata": {},
   "outputs": [],
   "source": [
    "fig, axes = icepack.plot.subplots()\n",
    "σ = firedrake.interpolate(firedrake.sqrt(σx**2 + σy**2), Q)\n",
    "levels = np.linspace(0, 50, 26)\n",
    "contours = icepack.plot.tricontourf(σ, levels=levels, extend='max', axes=axes)\n",
    "fig.colorbar(contours);"
   ]
  },
  {
   "cell_type": "markdown",
   "metadata": {},
   "source": [
    "Now that we've loaded in the ice thickness and surface elevation, we'll calculate the gravitational driving stress\n",
    "\n",
    "$$\\tau_d = -\\rho_Igh\\nabla s.$$\n",
    "\n",
    "The gravitational driving stress is in balance with internal viscous stresses and with basal stress.\n",
    "By knowing roughly what the magnitudes of the driving stress and the velocity are, we can get a better idea of what a reasonable starting value of the friction coefficient should be."
   ]
  },
  {
   "cell_type": "code",
   "execution_count": null,
   "metadata": {},
   "outputs": [],
   "source": [
    "from firedrake import grad\n",
    "from icepack.constants import ice_density as ρ_I, gravity as g\n",
    "τ = firedrake.project(-ρ_I * g * h * grad(s), V)"
   ]
  },
  {
   "cell_type": "code",
   "execution_count": null,
   "metadata": {},
   "outputs": [],
   "source": [
    "import numpy as np\n",
    "fig, axes = icepack.plot.subplots()\n",
    "levels = np.linspace(0, .5, 51)\n",
    "contours = icepack.plot.tricontourf(τ, levels=levels, extend='max', axes=axes)\n",
    "fig.colorbar(contours, label='megapascals')"
   ]
  },
  {
   "cell_type": "markdown",
   "metadata": {},
   "source": [
    "To initialize the inverse problem, we'll assume that the basal shear stress takes up half of the driving stress.\n",
    "This is a totally ad hoc assumption and it's not obvious a priori that this is going to give us reasonable values of the ice velocity.\n",
    "Nonetheless, it happens to work well enough as a starting point.\n",
    "We'll also need to re-parameterize the basal shear stress in terms of some auxiliary variable $q$ in order to guarantee that the friction coefficient is strictly positive.\n",
    "In the following, we'll use\n",
    "\n",
    "$$\\tau_b = -\\frac{\\tau_0}{u_0^{1/m}}e^{-q}|u|^{\\frac{1}{m} - 1}u$$\n",
    "\n",
    "where $\\tau_0$ and $u_0$ are the average magnitudes of the driving stress and speed respectively."
   ]
  },
  {
   "cell_type": "code",
   "execution_count": null,
   "metadata": {},
   "outputs": [],
   "source": [
    "from firedrake import exp, ln, sqrt, assemble\n",
    "from icepack.constants import weertman_sliding_law as m\n",
    "import icepack.models.friction\n",
    "\n",
    "u = u_obs.copy(deepcopy=True)\n",
    "speed = sqrt(inner(u, u))\n",
    "stress = sqrt(inner(τ, τ))\n",
    "\n",
    "area = assemble(firedrake.Constant(1) * dx(mesh))\n",
    "speed_avg = assemble(speed * dx) / area\n",
    "stress_avg = assemble(stress * dx) / area\n",
    "\n",
    "print(f'Average speed:  {speed_avg:6.1f} meters / year')\n",
    "print(f'Average stress: {1e3 * stress_avg:6.1f} kilopascals')\n",
    "\n",
    "fraction = 0.5\n",
    "C = fraction * stress / speed**(1/m)\n",
    "q = firedrake.interpolate(-ln(speed_avg**(1/m) * C / stress_avg), Q)\n",
    "\n",
    "def bed_friction(**kwargs):\n",
    "    u, q = map(kwargs.get, ('velocity', 'log_friction'))\n",
    "    \n",
    "    C = stress_avg / speed_avg**(1/m) * exp(-q)\n",
    "    return icepack.models.friction.bed_friction(velocity=u, friction=C)"
   ]
  },
  {
   "cell_type": "markdown",
   "metadata": {},
   "source": [
    "For now, we'll assume that the ice is at a constant -13C.\n",
    "We'll revisit this assumption using a heat flow model later."
   ]
  },
  {
   "cell_type": "code",
   "execution_count": null,
   "metadata": {},
   "outputs": [],
   "source": [
    "T = firedrake.Constant(260.)\n",
    "A = icepack.rate_factor(T)"
   ]
  },
  {
   "cell_type": "code",
   "execution_count": null,
   "metadata": {},
   "outputs": [],
   "source": [
    "flow_model = icepack.models.IceStream(friction=bed_friction)\n",
    "opts = {'dirichlet_ids': [1, 2, 4, 5, 6]}\n",
    "flow_solver = icepack.solvers.FlowSolver(flow_model, **opts)\n",
    "u = flow_solver.diagnostic_solve(\n",
    "    velocity=u_obs, \n",
    "    thickness=h, \n",
    "    surface=s, \n",
    "    fluidity=A, \n",
    "    log_friction=q\n",
    ")"
   ]
  },
  {
   "cell_type": "code",
   "execution_count": null,
   "metadata": {},
   "outputs": [],
   "source": [
    "fig, axes = icepack.plot.subplots()\n",
    "contours = icepack.plot.tricontourf(u, axes=axes)\n",
    "fig.colorbar(contours, label='meters / year');"
   ]
  },
  {
   "cell_type": "markdown",
   "metadata": {},
   "source": [
    "### Inferring the friction\n",
    "\n",
    "Next we'll apply a similar procedure as the first demo on inverse problems to back out the friction coefficient.\n",
    "The first ingredient is to define the objective and regularization functionals.\n",
    "Rather than use a least-squares type functional to measure the model-data misfit, we'll include a fudge factor that makes the fitting procedure taper off at large misfit values.\n",
    "When the observational data are not actually normally distributed, least-squares fitting can focus too much on outlier data points and, in so doing, spoil the overall result."
   ]
  },
  {
   "cell_type": "code",
   "execution_count": null,
   "metadata": {},
   "outputs": [],
   "source": [
    "ϵ = firedrake.Constant(1.)\n",
    "def objective(u):\n",
    "    δu = u - u_obs\n",
    "    χ2 = (δu[0] / σx)**2 + (δu[1] / σy)**2\n",
    "    return (sqrt(χ2 + ϵ**2) - ϵ) * dx"
   ]
  },
  {
   "cell_type": "markdown",
   "metadata": {},
   "source": [
    "The regularization functional is exactly as before.\n",
    "We're more interested in using this demo to explore 3D flow and heat transport, so it's not essential to resolve the basal shear stress down to the most minute details.\n",
    "As a consequence we can get away with using a fairly large regularization parameter."
   ]
  },
  {
   "cell_type": "code",
   "execution_count": null,
   "metadata": {},
   "outputs": [],
   "source": [
    "Φ = firedrake.Constant(1)\n",
    "L = firedrake.Constant(5e3)\n",
    "def regularization(q):\n",
    "    return 0.5 * (L / Φ)**2 * inner(grad(q), grad(q)) * dx"
   ]
  },
  {
   "cell_type": "markdown",
   "metadata": {},
   "source": [
    "The formulation of the inverse problem is very similar to what we saw in the previous tutorial for the Larsen ice shelf, but we have to pass in a few extra fields to the diagnostic solver."
   ]
  },
  {
   "cell_type": "code",
   "execution_count": null,
   "metadata": {},
   "outputs": [],
   "source": [
    "problem = icepack.inverse.InverseProblem(\n",
    "    model=flow_model,\n",
    "    objective=objective,\n",
    "    regularization=regularization,\n",
    "    state_name='velocity',\n",
    "    state=u,\n",
    "    parameter_name='log_friction',\n",
    "    parameter=q,\n",
    "    solver_kwargs=opts,\n",
    "    diagnostic_solve_kwargs={\n",
    "        'thickness': h,\n",
    "        'surface': s,\n",
    "        'fluidity': A\n",
    "    }\n",
    ")"
   ]
  },
  {
   "cell_type": "code",
   "execution_count": null,
   "metadata": {},
   "outputs": [],
   "source": [
    "parameters = {'form_compiler_parameters': {'quadrature_degree': 2 * degree + 1}}\n",
    "def callback(solver):\n",
    "    dJ = solver.gradient\n",
    "    q = solver.search_direction\n",
    "    dJ_dq = firedrake.action(dJ, q)\n",
    "    Δ = firedrake.assemble(dJ_dq, **parameters)\n",
    "\n",
    "    E = firedrake.assemble(solver.objective)\n",
    "    R = firedrake.assemble(solver.regularization)\n",
    "    print(f'{E / area:g}, {R / area:g}, {Δ / area:g}')"
   ]
  },
  {
   "cell_type": "markdown",
   "metadata": {},
   "source": [
    "This test case is more challenging for the inverse solver than the example we used to demonstrate how the inverse solver works in the first place.\n",
    "We'll need to increase the maximum number of iterations of the conjugate gradient algorithm in order to guarantee that the linear solver for the search direction will actually converge.\n",
    "To do this, we'll pass a value for the keyword argument `'search_max_iterations'` to the inverse solver.\n",
    "Steps like this one are often necessary for especially challenging problems."
   ]
  },
  {
   "cell_type": "code",
   "execution_count": null,
   "metadata": {},
   "outputs": [],
   "source": [
    "solver = icepack.inverse.GaussNewtonSolver(\n",
    "    problem,\n",
    "    callback,\n",
    "    search_max_iterations=200\n",
    ")"
   ]
  },
  {
   "cell_type": "markdown",
   "metadata": {},
   "source": [
    "Once again, as a sanity check we'll plot the initial search direction."
   ]
  },
  {
   "cell_type": "code",
   "execution_count": null,
   "metadata": {},
   "outputs": [],
   "source": [
    "fig, axes = icepack.plot.subplots()\n",
    "ϕ = solver.search_direction\n",
    "colors = icepack.plot.tripcolor(\n",
    "    ϕ, cmap='RdBu', axes=axes\n",
    ")\n",
    "fig.colorbar(colors);"
   ]
  },
  {
   "cell_type": "markdown",
   "metadata": {},
   "source": [
    "Descending along this direction will reduce the basal shear stress along the main trunk of the glacier, which makes sense given that outlet glaciers tend to be found where weak sediments facilitate fast sliding.\n",
    "Now let's go get a coffee and wait for the solver to converge."
   ]
  },
  {
   "cell_type": "code",
   "execution_count": null,
   "metadata": {},
   "outputs": [],
   "source": [
    "iterations = solver.solve(\n",
    "    rtol=5e-3,\n",
    "    atol=0.0,\n",
    "    etol=1e-4,\n",
    "    max_iterations=30\n",
    ")"
   ]
  },
  {
   "cell_type": "code",
   "execution_count": null,
   "metadata": {},
   "outputs": [],
   "source": [
    "fig, axes = icepack.plot.subplots()\n",
    "q = solver.parameter\n",
    "colors = icepack.plot.tripcolor(\n",
    "    q, vmin=-5, vmax=+5, cmap='bwr', axes=axes\n",
    ")\n",
    "fig.colorbar(colors);"
   ]
  },
  {
   "cell_type": "code",
   "execution_count": null,
   "metadata": {},
   "outputs": [],
   "source": [
    "u = solver.state\n",
    "\n",
    "C = stress_avg / speed_avg**(1/m) * exp(-q)\n",
    "U = sqrt(inner(u, u))\n",
    "τ_b = firedrake.interpolate(C * U**(1/m), Q)"
   ]
  },
  {
   "cell_type": "code",
   "execution_count": null,
   "metadata": {},
   "outputs": [],
   "source": [
    "fig, axes = icepack.plot.subplots()\n",
    "colors = icepack.plot.tripcolor(\n",
    "    τ_b, vmin=0, vmax=0.5, shading='gouraud', axes=axes\n",
    ")\n",
    "fig.colorbar(colors, label='megapascals');"
   ]
  },
  {
   "cell_type": "markdown",
   "metadata": {},
   "source": [
    "### Lifting to 3D\n",
    "\n",
    "We looked at modeling the flow of ice streams using the hybrid model in a previous tutorial, but there we were using purely synthetic data and we started out working with 3D fields to begin with.\n",
    "Here we've used a 2D flow model to more cheaply calculate the basal shear stress, and we'd now like to transfer these results to a 3D domain.\n",
    "The convenience function `lift3d` will do this for us."
   ]
  },
  {
   "cell_type": "code",
   "execution_count": null,
   "metadata": {},
   "outputs": [],
   "source": [
    "help(icepack.lift3d)"
   ]
  },
  {
   "cell_type": "markdown",
   "metadata": {},
   "source": [
    "First, we'll extrude the mesh and create a function space to represent scalar fields that are constant throughout the whole column.\n",
    "Here we'll use the `R` space in the vertical, which represents spatially constant functions (see also [this page](https://firedrakeproject.org/r-space.html#using-r-space-with-extruded-meshes) from the Firedrake documentation)."
   ]
  },
  {
   "cell_type": "code",
   "execution_count": null,
   "metadata": {},
   "outputs": [],
   "source": [
    "mesh3d = firedrake.ExtrudedMesh(mesh, 1)\n",
    "Qc = firedrake.FunctionSpace(\n",
    "    mesh3d, family='CG', degree=2, vfamily='R', vdegree=0\n",
    ")\n",
    "q = icepack.lift3d(solver.parameter, Qc)\n",
    "h = icepack.lift3d(h, Qc)\n",
    "s = icepack.lift3d(s, Qc)\n",
    "σx = icepack.lift3d(σx, Qc)\n",
    "σy = icepack.lift3d(σy, Qc)"
   ]
  },
  {
   "cell_type": "markdown",
   "metadata": {},
   "source": [
    "Next, we need to lift the 2D depth-averaged velocity into 3D.\n",
    "This takes place in two stages, the first of which is to extrude the velocity to be constant in the vertical direction.\n",
    "The initial function space `V0` will use degree-0 elements in the vertical."
   ]
  },
  {
   "cell_type": "code",
   "execution_count": null,
   "metadata": {},
   "outputs": [],
   "source": [
    "V0 = firedrake.VectorFunctionSpace(\n",
    "    mesh3d, dim=2, family='CG', degree=2, vfamily='R', vdegree=0\n",
    ")\n",
    "u0 = icepack.lift3d(solver.state, V0)\n",
    "u_obs = icepack.lift3d(u_obs, V0)"
   ]
  },
  {
   "cell_type": "markdown",
   "metadata": {},
   "source": [
    "Next, we'll add vertical variation.\n",
    "The function space `V` that we'll use for the velocities has polynomial degree 2 in the vertical.\n",
    "This is sufficiently many degrees of freedom to resolve both the zero-stress boundary condition at the ice surface and the sliding boundary condition at the ice base."
   ]
  },
  {
   "cell_type": "code",
   "execution_count": null,
   "metadata": {},
   "outputs": [],
   "source": [
    "V = firedrake.VectorFunctionSpace(\n",
    "    mesh3d, dim=2, family='CG', degree=2, vfamily='GLL', vdegree=2\n",
    ")\n",
    "\n",
    "x, y, ζ = firedrake.SpatialCoordinate(mesh3d)\n",
    "u_initial = firedrake.interpolate((1 - 0.5 * (1 - ζ)**2) * u0, V)"
   ]
  },
  {
   "cell_type": "markdown",
   "metadata": {},
   "source": [
    "Finally, we'll create model and solver objects and calculate a 3D velocity field."
   ]
  },
  {
   "cell_type": "code",
   "execution_count": null,
   "metadata": {},
   "outputs": [],
   "source": [
    "def bed_friction(**kwargs):\n",
    "    u, q = map(kwargs.get, ('velocity', 'log_friction'))\n",
    "\n",
    "    C = stress_avg / speed_avg**(1/m) * exp(-q)\n",
    "    return icepack.models.hybrid.bed_friction(velocity=u, friction=C)\n",
    "\n",
    "flow_model = icepack.models.HybridModel(friction=bed_friction)"
   ]
  },
  {
   "cell_type": "code",
   "execution_count": null,
   "metadata": {},
   "outputs": [],
   "source": [
    "opts = {\n",
    "    'dirichlet_ids': [1, 2, 4, 5, 6],\n",
    "    'diagnostic_solver_type': 'petsc',\n",
    "    'diagnostic_solver_parameters': {\n",
    "        'snes_type': 'newtontr',\n",
    "        'pc_type': 'lu',\n",
    "        'pc_factor_mat_solver_type': 'mumps'\n",
    "    }\n",
    "}\n",
    "flow_solver = icepack.solvers.FlowSolver(flow_model, **opts)"
   ]
  },
  {
   "cell_type": "code",
   "execution_count": null,
   "metadata": {},
   "outputs": [],
   "source": [
    "fields = dict(\n",
    "    velocity=u_initial,\n",
    "    thickness=h,\n",
    "    surface=s,\n",
    "    fluidity=A,\n",
    "    log_friction=q\n",
    ")"
   ]
  },
  {
   "cell_type": "code",
   "execution_count": null,
   "metadata": {},
   "outputs": [],
   "source": [
    "from firedrake import ds_t, ds_b, ds_v\n",
    "J1 = flow_model.viscosity(**fields) * dx\n",
    "J2 = flow_model.friction(**fields) * ds_b\n",
    "J3 = flow_model.gravity(**fields) * dx\n",
    "J4 = flow_model.terminus(**fields) * ds_v((3,))"
   ]
  },
  {
   "cell_type": "code",
   "execution_count": null,
   "metadata": {},
   "outputs": [],
   "source": [
    "qdegree = flow_model.quadrature_degree(**fields)"
   ]
  },
  {
   "cell_type": "code",
   "execution_count": null,
   "metadata": {},
   "outputs": [],
   "source": [
    "print(firedrake.assemble(J1, form_compiler_parameters={'quadrature_degree': qdegree}))\n",
    "print(firedrake.assemble(J2, form_compiler_parameters={'quadrature_degree': qdegree}))\n",
    "print(firedrake.assemble(J3, form_compiler_parameters={'quadrature_degree': qdegree}))\n",
    "print(firedrake.assemble(J4, form_compiler_parameters={'quadrature_degree': qdegree}))"
   ]
  },
  {
   "cell_type": "code",
   "execution_count": null,
   "metadata": {},
   "outputs": [],
   "source": [
    "u = flow_solver.diagnostic_solve(\n",
    "    velocity=u_initial,\n",
    "    thickness=h,\n",
    "    surface=s,\n",
    "    fluidity=A,\n",
    "    log_friction=q\n",
    ")"
   ]
  },
  {
   "cell_type": "markdown",
   "metadata": {},
   "source": [
    "Since we're no longer working purely in 2D, we'll want to get some idea of the vertical variation of the computed velocity.\n",
    "If we just pass $u$ itself to the plotting functions like `tricontourf`, we'll get a depth average of $u$."
   ]
  },
  {
   "cell_type": "code",
   "execution_count": null,
   "metadata": {},
   "outputs": [],
   "source": [
    "fig, axes = icepack.plot.subplots()\n",
    "contours = icepack.plot.tricontourf(u, axes=axes)\n",
    "fig.colorbar(contours);"
   ]
  },
  {
   "cell_type": "markdown",
   "metadata": {},
   "source": [
    "We can also use the `depth_average` function from icepack with a weighting function in order to see what the shear velocity is."
   ]
  },
  {
   "cell_type": "code",
   "execution_count": null,
   "metadata": {},
   "outputs": [],
   "source": [
    "weight = np.sqrt(3) * (1 - 2 * ζ)\n",
    "u_shear = icepack.depth_average(u, weight=weight)"
   ]
  },
  {
   "cell_type": "code",
   "execution_count": null,
   "metadata": {},
   "outputs": [],
   "source": [
    "fig, axes = icepack.plot.subplots()\n",
    "contours = icepack.plot.tricontourf(u_shear, axes=axes)\n",
    "fig.colorbar(contours);"
   ]
  }
 ],
 "metadata": {
  "kernelspec": {
   "display_name": "firedrake",
   "language": "python",
   "name": "firedrake"
  },
  "language_info": {
   "name": "python",
   "pygments_lexer": "ipython3"
  }
 },
 "nbformat": 4,
 "nbformat_minor": 4
}
