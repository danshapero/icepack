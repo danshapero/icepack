{
 "cells": [
  {
   "cell_type": "markdown",
   "metadata": {},
   "source": [
    "# Synthetic ice stream\n",
    "\n",
    "In this demo, we'll simulate the evolution of an ice stream with both grounded and floating parts.\n",
    "This scenario is a good bit more complex than the floating ice shelf we simulated in the previous demo.\n",
    "First, there are more fields.\n",
    "For floating ice shelves, we only had to consider the velocity, thickness, and fluidity.\n",
    "For grounded glaciers, we also have to include the surface elevation and bed friction.\n",
    "The diagnostic equation for an ice stream is similar to that of a floating ice shelf, but for the addition of a term for basal friction:\n",
    "\n",
    "$$\\nabla\\cdot hM - C|u|^{1/m - 1}u - \\rho gh\\nabla s = 0,$$\n",
    "\n",
    "where $m$ is the *sliding exponent* and $C$ is the *sliding coefficient*.\n",
    "Second, the position of the grounding line -- the contour across which the glacier is thin enough to go afloat -- can migrate in time.\n",
    "Accurately predicting grounding line migration is a [major problem](https://doi.org/10.1029/2004JF000202) in glacier flow modeling.\n",
    "\n",
    "As a test case, we'll use a geometry and input data from the third phase of the *Marine Ice Sheet Model Intercomparison Project*, or MISMIP+.\n",
    "If you're not already familiar with the term, model intercomparison projects are standardized computational experiments that researchers design in order to test the degree to which different software packages produce outputs that do or don't agree with each other.\n",
    "There have been several ice sheet model intercomparison projects in the past, but they're common in other disciplines as well.\n",
    "For example, there have also been atmospheric model and paleoclimate model intercomparison projects.\n",
    "MISMIP+ has become a standard test case for evaluating glacier flow models and we'll revisit it again several times in the guides that follow.\n",
    "The experimental setup for MISMIP+ is described in [Asay-Davis et al. (2016)](https://doi.org/10.5194/gmd-9-2471-2016)."
   ]
  },
  {
   "cell_type": "markdown",
   "metadata": {},
   "source": [
    "### Geometry and input data\n",
    "\n",
    "The experiment uses an elongated geometry roughly the size of a glacier catchment -- 640 km from the ice divide to the terminus and 80 km across."
   ]
  },
  {
   "cell_type": "code",
   "execution_count": null,
   "metadata": {},
   "outputs": [],
   "source": [
    "import firedrake\n",
    "\n",
    "Lx, Ly = 640e3, 80e3\n",
    "ny = 16\n",
    "nx = int(Lx / Ly) * ny\n",
    "area = Lx * Ly\n",
    "\n",
    "mesh = firedrake.RectangleMesh(nx, ny, Lx, Ly)\n",
    "Q = firedrake.FunctionSpace(mesh, family=\"CG\", degree=2)\n",
    "V = firedrake.VectorFunctionSpace(mesh, family=\"CG\", degree=2)"
   ]
  },
  {
   "cell_type": "markdown",
   "metadata": {},
   "source": [
    "The MISMIP+ experiment defines a profile for the ice bed that is a 6th-order polynomial in $x$ and an exponential in $y$.\n",
    "The bed shape was designed to create a bench or bedrock high in the $x$ direction that the ice could ground on and, given enough of a meltwater kick, to retreat off of.\n",
    "The shape in the $y$ direction is designed to funnel ice off of the side walls and create geometric constrictions."
   ]
  },
  {
   "cell_type": "code",
   "execution_count": null,
   "metadata": {},
   "outputs": [],
   "source": [
    "from firedrake import exp, max_value, Constant, as_vector, interpolate, dx\n",
    "\n",
    "x, y = firedrake.SpatialCoordinate(mesh)\n",
    "x_c = Constant(300e3)\n",
    "X = x / x_c\n",
    "\n",
    "B_0 = Constant(-150)\n",
    "B_2 = Constant(-728.8)\n",
    "B_4 = Constant(343.91)\n",
    "B_6 = Constant(-50.57)\n",
    "B_x = B_0 + B_2 * X ** 2 + B_4 * X ** 4 + B_6 * X ** 6\n",
    "\n",
    "f_c = Constant(4e3)\n",
    "d_c = Constant(500)\n",
    "w_c = Constant(24e3)\n",
    "\n",
    "B_y = d_c * (\n",
    "    1 / (1 + exp(-2 * (y - Ly / 2 - w_c) / f_c)) +\n",
    "    1 / (1 + exp(+2 * (y - Ly / 2 + w_c) / f_c))\n",
    ")\n",
    "\n",
    "z_deep = Constant(-720)\n",
    "z_b = interpolate(max_value(B_x + B_y, z_deep), Q)"
   ]
  },
  {
   "cell_type": "markdown",
   "metadata": {},
   "source": [
    "In case all of that algebra wasn't totally crystal clear, here's a picture."
   ]
  },
  {
   "cell_type": "code",
   "execution_count": null,
   "metadata": {},
   "outputs": [],
   "source": [
    "import matplotlib.pyplot as plt\n",
    "from mpl_toolkits import mplot3d\n",
    "\n",
    "fig = plt.figure()\n",
    "axes = fig.add_subplot(projection=\"3d\")\n",
    "firedrake.trisurf(z_b, axes=axes);"
   ]
  },
  {
   "cell_type": "markdown",
   "metadata": {},
   "source": [
    "The experiment further sets the default values for the ice fluidity and friction coefficients."
   ]
  },
  {
   "cell_type": "code",
   "execution_count": null,
   "metadata": {},
   "outputs": [],
   "source": [
    "A = Constant(20)\n",
    "C = Constant(1e-2)"
   ]
  },
  {
   "cell_type": "markdown",
   "metadata": {},
   "source": [
    "In the previous examples, we've initialized a model object and then used it directly to compute velocities and thicknesses.\n",
    "These model objects have sensible defaults for how the physics are parameterized.\n",
    "For example, we pass in the ice fluidity coefficient $A$, which has units of strain rate $\\times$ stress${}^{-n}$, where $n = 3$ is the exponent in Glen's flow law.\n",
    "That's all fine for getting started, but what if you don't like our defaults?\n",
    "What if you instead wanted to use, say, the rheology coefficient $B = A^{-1/n}$ instead?\n",
    "Or what if you wanted to change the friction law completely?\n",
    "\n",
    "This brings us to one of the most important design features of icepack: **you can customize the physics parameterizations.**\n",
    "To do so, all you have to do is write a Python function to compute the relevant part of the action functional and pass that function when you create the model.\n",
    "Very often, you can reuse some of the functions in icepack with a little bit of modification rather than write a completely new one.\n",
    "\n",
    "The default in the `IceStream` class is to take in a friction coefficient $C$.\n",
    "We want to change this default behavior to also include a *ramping* factor that smoothly dials the friction down towards the grounding line as a function of the ice thickness and surface elevation.\n",
    "Without this smoothing effect, the system can experience a sudden shock across the grounding line, which manifests as wiggly numerical artifacts.\n",
    "The following function works as a wrapper around the default parameterization, multiplying the friction coefficient by the ramping factor."
   ]
  },
  {
   "cell_type": "code",
   "execution_count": null,
   "metadata": {},
   "outputs": [],
   "source": [
    "from icepack.constants import (\n",
    "    ice_density as ρ_I,\n",
    "    water_density as ρ_W,\n",
    "    gravity as g,\n",
    ")\n",
    "import icepack.models.friction\n",
    "\n",
    "\n",
    "def weertman_friction_with_ramp(**kwargs):\n",
    "    u = kwargs[\"velocity\"]\n",
    "    h = kwargs[\"thickness\"]\n",
    "    s = kwargs[\"surface\"]\n",
    "    C = kwargs[\"friction\"]\n",
    "\n",
    "    p_W = ρ_W * g * firedrake.max_value(0, -(s - h))\n",
    "    p_I = ρ_I * g * h\n",
    "    ϕ = 1 - p_W / p_I\n",
    "    return icepack.models.friction.bed_friction(velocity=u, friction=C * ϕ)"
   ]
  },
  {
   "cell_type": "markdown",
   "metadata": {},
   "source": [
    "Now we can create a model object that uses our new parameterization by passing it to the constructor for the `IceStream` class.\n",
    "We're calling the model object `model_weertman` because, at the end of this demo, we'll compare with something quite different -- the Schoof model for basal sliding.\n",
    "The solver object is created in the same way as before.\n",
    "Customizing the physics changes what problem we're solving, but the algorithms that we use to approximate the solution are identical."
   ]
  },
  {
   "cell_type": "code",
   "execution_count": null,
   "metadata": {},
   "outputs": [],
   "source": [
    "model_weertman = icepack.models.IceStream(friction=weertman_friction_with_ramp)\n",
    "opts = {\"dirichlet_ids\": [1], \"side_wall_ids\": [3, 4], \"tolerance\": 1e-6}\n",
    "solver_weertman = icepack.solvers.FlowSolver(model_weertman, **opts)"
   ]
  },
  {
   "cell_type": "markdown",
   "metadata": {},
   "source": [
    "### Modeling\n",
    "\n",
    "Now the good part -- taking our initial glacier state and projecting it forward until it reaches a steady state.\n",
    "The MISMIP+ experiment specifies an accumulation rate of 30 cm / year for spinning up the ice stream."
   ]
  },
  {
   "cell_type": "code",
   "execution_count": null,
   "metadata": {},
   "outputs": [],
   "source": [
    "a = Constant(0.3)"
   ]
  },
  {
   "cell_type": "markdown",
   "metadata": {},
   "source": [
    "We don't have a great way to know ahead of time what the steady state of the simulation will be.\n",
    "Instead, we'll start with a very blunt initial guess: a constant ice thickness of 100m everywhere."
   ]
  },
  {
   "cell_type": "code",
   "execution_count": null,
   "metadata": {},
   "outputs": [],
   "source": [
    "h_0 = interpolate(Constant(100), Q)\n",
    "s_0 = icepack.compute_surface(thickness=h_0, bed=z_b)\n",
    "\n",
    "x = firedrake.SpatialCoordinate(mesh)[0]\n",
    "u_0 = solver_weertman.diagnostic_solve(\n",
    "    velocity=interpolate(as_vector((90 * x / Lx, 0)), V),\n",
    "    thickness=h_0,\n",
    "    surface=s_0,\n",
    "    fluidity=A,\n",
    "    friction=C,\n",
    ")"
   ]
  },
  {
   "cell_type": "markdown",
   "metadata": {},
   "source": [
    "We'll then spin this up to steady state for long enough to propagate out any initial transients.\n",
    "The MISMIP+ paper gives a value of a few thousand years as sufficient to get extremely close to steady state.\n",
    "If you didn't know ahead of time, you could also find this by trial and error."
   ]
  },
  {
   "cell_type": "code",
   "execution_count": null,
   "metadata": {},
   "outputs": [],
   "source": [
    "final_time = 3600.0\n",
    "dt = 3.0\n",
    "num_steps = int(final_time / dt)\n",
    "\n",
    "h = h_0.copy(deepcopy=True)\n",
    "u = u_0.copy(deepcopy=True)"
   ]
  },
  {
   "cell_type": "code",
   "execution_count": null,
   "metadata": {},
   "outputs": [],
   "source": [
    "import tqdm\n",
    "\n",
    "for step in tqdm.trange(num_steps):\n",
    "    h = solver_weertman.prognostic_solve(\n",
    "        dt,\n",
    "        thickness=h,\n",
    "        velocity=u,\n",
    "        accumulation=a,\n",
    "        thickness_inflow=h_0,\n",
    "    )\n",
    "    s = icepack.compute_surface(thickness=h, bed=z_b)\n",
    "\n",
    "    u = solver_weertman.diagnostic_solve(\n",
    "        velocity=u,\n",
    "        thickness=h,\n",
    "        surface=s,\n",
    "        fluidity=A,\n",
    "        friction=C,\n",
    "    )"
   ]
  },
  {
   "cell_type": "markdown",
   "metadata": {},
   "source": [
    "Notice that we have one extra step in the middle of the simulation loop.\n",
    "For ice shelves, all we had to do was (1) update the thickness according to the prognostic equation and then (2) compute the new ice velocity corresponding to this thickness.\n",
    "Since ice shelves are floating, we can calculate the surface elevation as a function of the ice thickness knowing the densities of ice and ocean water, and this is baked into the formulation of the problem.\n",
    "Ice streams, on the other hand, can be grounded or floating.\n",
    "After we update the ice thickness, we need to explicitly calculate a new surface elevation in a way that accounts for whether the ice is floating or grounded, and that's what the function `icepack.compute_surface` does.\n",
    "Let's see what the results look like."
   ]
  },
  {
   "cell_type": "code",
   "execution_count": null,
   "metadata": {},
   "outputs": [],
   "source": [
    "import icepack.plot\n",
    "\n",
    "fig, axes = icepack.plot.subplots()\n",
    "colors = icepack.plot.tripcolor(h, axes=axes)\n",
    "fig.colorbar(colors, label=\"meters\", fraction=0.012, pad=0.04);"
   ]
  },
  {
   "cell_type": "code",
   "execution_count": null,
   "metadata": {},
   "outputs": [],
   "source": [
    "fig, axes = icepack.plot.subplots()\n",
    "colors = icepack.plot.tripcolor(u, axes=axes)\n",
    "fig.colorbar(colors, label=\"meters/year\", fraction=0.012, pad=0.04);"
   ]
  },
  {
   "cell_type": "markdown",
   "metadata": {},
   "source": [
    "We can get an idea for how close or far away the system is from equilibrium by plotting the total mass imbalance."
   ]
  },
  {
   "cell_type": "code",
   "execution_count": null,
   "metadata": {},
   "outputs": [],
   "source": [
    "from firedrake import div\n",
    "\n",
    "f = firedrake.interpolate(a - div(h * u), Q)\n",
    "fig, axes = icepack.plot.subplots()\n",
    "colors = icepack.plot.tripcolor(f, vmin=-0.5, vmax=+0.5, cmap=\"RdBu\", axes=axes)\n",
    "fig.colorbar(colors, label=\"meters/year\", fraction=0.012, pad=0.04);"
   ]
  },
  {
   "cell_type": "markdown",
   "metadata": {},
   "source": [
    "Finally, we can draw some transects through the domain to see what the surface, bed, and ice base elevation look like in the $x, z$-plane."
   ]
  },
  {
   "cell_type": "code",
   "execution_count": null,
   "metadata": {},
   "outputs": [],
   "source": [
    "import numpy as np\n",
    "import matplotlib.pyplot as plt\n",
    "\n",
    "xs = np.array([(Lx * k / nx, 0) for k in range(nx + 1)])\n",
    "\n",
    "ss = np.array(s.at(xs, tolerance=1e-10))\n",
    "hs = np.array(h.at(xs, tolerance=1e-10))\n",
    "bs = np.array(z_b.at(xs, tolerance=1e-10))\n",
    "\n",
    "fig, axes = plt.subplots()\n",
    "axes.plot(xs[:, 0] / 1e3, bs, color=\"black\")\n",
    "axes.plot(xs[:, 0] / 1e3, ss - hs, color=\"blue\")\n",
    "axes.plot(xs[:, 0] / 1e3, ss, color=\"blue\")\n",
    "axes.set_xlabel(\"distance along centerline (km)\")\n",
    "axes.set_ylabel(\"elevation (m)\");"
   ]
  },
  {
   "cell_type": "markdown",
   "metadata": {},
   "source": [
    "There are a few things to observe about this.\n",
    "First, the glacier exhibits the typical drop in thickness gradient as it crosses the grounding line, and there's a bit of a hump or bulge right upstream of it.\n",
    "This matches pretty nicely with what we see in real observations.\n",
    "\n",
    "Second, there are some oscillatory wiggles at the ice divide on the left side of the domain.\n",
    "This does not match nicely with what we see in real observations at all.\n",
    "These wiggles are purely a numerical artifact of the system adjusting on spatial scales smaller than what our mesh can resolve.\n",
    "We can fix this by using a mesh with higher resolution near the ice divide; we'll cover adaptive mesh refinement in a later tutorial.\n",
    "These sorts of problems are very common and you should know what they look like."
   ]
  },
  {
   "cell_type": "markdown",
   "metadata": {},
   "source": [
    "### Recap\n",
    "\n",
    "The demonstration above shows how to simulate the evolution of a grounded ice stream; while there are more fields to keep track of than for a floating ice shelf, the basic principles are still the same.\n",
    "\n",
    "Coming up with physically plausible synthetic test cases is difficult.\n",
    "The variables that we can control are the bed geometry, the accumulation rate, and the ice flux at inflow.\n",
    "To a certain extent, we can pick the friction coefficient, but this can change in ways that are difficult to predict as parts of the glacier begin to float.\n",
    "Our initial state was far out of mass balance and we let it evolve towards equilibrium, but we don't know ahead of time what surface slope or stretching rate the glacier will settle on in the end.\n",
    "\n",
    "The eventual steady state could be physically implausible for reasons that weren't obvious from the start.\n",
    "For example, if the ice strain rate increases beyond what we expect after a few years of model time, the mass flux at the inflow boundary could be much larger than what the influx and accumulation rate can supply, leading to an unphysically sharp drop in the surface.\n",
    "Preparing demonstrations like this one can require lots of trial and error to get the parameters just right, and that's to be expected.\n",
    "\n",
    "The bed elevation we used sloped down towards the ocean; had we instead used a bed elevation that sloped down going inland, the configuration would be unstable due to marine ice sheet instability.\n",
    "An interesting variation on this demo could be to use a bed geometry with several stable pinning points, interspersed with unstable retrograde slopes."
   ]
  },
  {
   "cell_type": "markdown",
   "metadata": {},
   "source": [
    "### Changing the model physics\n",
    "\n",
    "In the first part of this demo, we used the usual Weertman sliding law, where the basal shear stress is proportional to some power of the ice sliding speed.\n",
    "This sliding law assumes that the glaciers slide over hard beds by the process of [regelation](https://en.wikipedia.org/wiki/Regelation).\n",
    "Where the glacier flows over deformable sediments, the sliding relation could instead approach plasticity -- the stress depends only on the direction and not the magnitude of the velocity.\n",
    "Other sliding laws have been proposed that exhibit this feature, for example the law proposed in Schoof (2005), The effect of cavitation on glacier sliding.\n",
    "\n",
    "In icepack, all of the diagnostic model physics is prescribed through an action principle.\n",
    "Rather than specify how the shear stress depends on the ice velocity, we specify the frictional energy dissipation.\n",
    "The stress is then the functional derivative of the dissipation with respect to velocity.\n",
    "For the Weertman sliding law\n",
    "\n",
    "$$\\tau_b = -C|u|^{\\frac{1}{m} - 1}u,$$\n",
    "\n",
    "the energy dissipation is\n",
    "\n",
    "$$E(u) = \\int \\frac{m}{m + 1}C|u|^{\\frac{1}{m} + 1}dx.$$\n",
    "\n",
    "In the first part of the demo, we showed how to slightly modify the physics by adding a thickness- and elevation-dependent factor to reduce the friction when the glacier bed is below sea level.\n",
    "In the following, we'll show how to use a completely different model of glacier sliding."
   ]
  },
  {
   "cell_type": "markdown",
   "metadata": {},
   "source": [
    "### The Schoof sliding law\n",
    "\n",
    "To modify the Weertman sliding law for high ice speeds, we need for the energy dissipation density to be asymptotically like $|u|^1$ for large $u$, but like $|u|^{1/m + 1}$ for small $u$.\n",
    "\"Small\" and \"large\" will be defined relative to some threshold or critical speed $u_c$.\n",
    "While it doesn't exactly reproduce the Schoof sliding law itself, the following functional gives the right asymptotic behavior:\n",
    "\n",
    "$$E(u) = \\int \\tau_c\\left(\\left(u_c^{\\frac{1}{m} + 1} + |u|^{\\frac{1}{m} + 1}\\right)^{\\frac{m}{m + 1}} - u_c\\right) dx$$\n",
    "\n",
    "The extra factor of $-u_c$ is there to make it so that $E(0) = 0$, i.e. there is no dissipation when there is no flow.\n",
    "\n",
    "If we're going to use this more complex friction law, we also have to decide what values to use for the critical stress $\\tau_c$ and velocity $u_c$.\n",
    "The MISMIP+ experiment suggests taking the critical stress to be equal to half the pressure exerted by the ice above flotation.\n",
    "Just like we did before with the Weertman sliding law, this choice will give us the right ramping factor as we get towards the grounding line.\n",
    "We'll then define the critical speed $u_c$ in terms of the sliding coefficient $C$ and the critical stress:\n",
    "\n",
    "$$u_c = (\\tau_c / C)^m.$$\n",
    "\n",
    "Since $\\tau_c \\to 0$ near the grounding line, this means that the sliding law will be closer to plasticity there as well.\n",
    "\n",
    "The following function returns the kernel of the action functional associated to this sliding law, given the ice velocity, elevation, and the yield stress.\n",
    "Note that we only need to provide the inside of the integral -- the model object applies the measures (`dx`, `ds`, etc.) for you."
   ]
  },
  {
   "cell_type": "code",
   "execution_count": null,
   "metadata": {},
   "outputs": [],
   "source": [
    "def schoof_friction(**kwargs):\n",
    "    u = kwargs[\"velocity\"]\n",
    "    h = kwargs[\"thickness\"]\n",
    "    s = kwargs[\"surface\"]\n",
    "    C = kwargs[\"friction\"]\n",
    "\n",
    "    p_W = ρ_W * g * max_value(0, -(s - h))\n",
    "    p_I = ρ_I * g * h\n",
    "    N = max_value(0, p_I - p_W)\n",
    "    τ_c = N / 2\n",
    "\n",
    "    u_c = (τ_c / C) ** m\n",
    "    u_b = sqrt(inner(u, u))\n",
    "\n",
    "    return τ_c * ((u_c ** (1 / m + 1) + u_b ** (1 / m + 1)) ** (m / (m + 1)) - u_c)"
   ]
  },
  {
   "cell_type": "markdown",
   "metadata": {},
   "source": [
    "Before we go on, let's take a look at what the basal shear stress actually looks like.\n",
    "Recall that the quantity we defined above is the rate of free energy dissipation due to frictional stress.\n",
    "To get the actual basal shear, we'll take the derivative of this quantity with respect to the velocity $u$.\n",
    "The analytical formula for the stress is\n",
    "\n",
    "$$\\tau = -\\frac{\\tau_c|u|^{\\frac{1}{m} - 1}u}{\\left(u_c^{\\frac{1}{m} + 1} + |u|^{\\frac{1}{m} + 1}\\right)^{\\frac{1}{m + 1}}}.$$\n",
    "\n",
    "Observe how the magnitude of the basal shear is asymptotic to $|u|^{1/m}$ when $|u| \\ll u_c$, but to $\\tau_c$ when $|u| \\gg u_c$.\n",
    "\n",
    "To calculate the basal shear, we could painstakingly write out this whole formula in Python.\n",
    "Or we could take advantage of the symbolic differentiation features of the form language by first creating the free energy dissipation `F` and then calling `firedrake.diff` on it."
   ]
  },
  {
   "cell_type": "code",
   "execution_count": null,
   "metadata": {},
   "outputs": [],
   "source": [
    "F = schoof_friction(\n",
    "    velocity=u,\n",
    "    thickness=h,\n",
    "    surface=s,\n",
    "    friction=C,\n",
    ")\n",
    "τ = firedrake.interpolate(-firedrake.diff(F, u), V)"
   ]
  },
  {
   "cell_type": "code",
   "execution_count": null,
   "metadata": {},
   "outputs": [],
   "source": [
    "fig, axes = icepack.plot.subplots()\n",
    "colors = firedrake.tripcolor(τ, vmin=0, vmax=0.15, axes=axes)\n",
    "fig.colorbar(colors, label='MPa', fraction=0.012, pad=0.04);"
   ]
  },
  {
   "cell_type": "markdown",
   "metadata": {},
   "source": [
    "This matches up with what we expect -- higher stress at the grounded part of the ice stream, which then decreases to 0 towards the grounding line.\n",
    "\n",
    "Now we can create a new `IceStream` object that will use this function to calculate the action rather than the usual Weertman sliding law:"
   ]
  },
  {
   "cell_type": "code",
   "execution_count": null,
   "metadata": {},
   "outputs": [],
   "source": [
    "model_schoof = icepack.models.IceStream(friction=schoof_friction)"
   ]
  },
  {
   "cell_type": "markdown",
   "metadata": {},
   "source": [
    "The Schoof friction functional that we defined above takes in more parameters than the usual Weertman law, but thanks to keyword arguments in Python, everything gets passed to the right place despite this change.\n",
    "Let's do a diagnostic solve with this new model and see how different it is from the velocity obtained with the Weertman sliding law."
   ]
  },
  {
   "cell_type": "code",
   "execution_count": null,
   "metadata": {},
   "outputs": [],
   "source": [
    "solver_schoof = icepack.solvers.FlowSolver(model_schoof, **opts)\n",
    "u_schoof = solver_schoof.diagnostic_solve(\n",
    "    velocity=u,\n",
    "    thickness=h,\n",
    "    surface=s,\n",
    "    fluidity=A,\n",
    "    friction=C,\n",
    ")"
   ]
  },
  {
   "cell_type": "code",
   "execution_count": null,
   "metadata": {},
   "outputs": [],
   "source": [
    "fig, axes = icepack.plot.subplots()\n",
    "colors = icepack.plot.tripcolor(u_schoof, axes=axes)\n",
    "fig.colorbar(colors, label='meters/year', fraction=0.012, pad=0.04);"
   ]
  },
  {
   "cell_type": "code",
   "execution_count": null,
   "metadata": {},
   "outputs": [],
   "source": [
    "icepack.norm(u - u_schoof)"
   ]
  },
  {
   "cell_type": "markdown",
   "metadata": {},
   "source": [
    "Just as we expect -- the resulting velocities are practically the same.\n",
    "We picked the parameters in the Schoof sliding law to give the same basal shear stress as with the Weertman law, so we should get the same velocity."
   ]
  },
  {
   "cell_type": "markdown",
   "metadata": {},
   "source": [
    "### Response to perturbations\n",
    "\n",
    "The steady state we've found is roughly an equilibrium for both the Weertman and Schoof sliding laws.\n",
    "To conclude this demo, we'll increase the melt rate under the floating ice tongue and see how the system responds.\n",
    "To perturb the system out of its current equilibrium state, we'll add an extra 1 m/year of melting in the right-hand side of the domain.\n",
    "If we wanted to be more physically realistic about things, we might set the melt rate to be a function of depth below sea level, or even use a plume model."
   ]
  },
  {
   "cell_type": "code",
   "execution_count": null,
   "metadata": {},
   "outputs": [],
   "source": [
    "from firedrake import conditional\n",
    "a = firedrake.interpolate(\n",
    "    a_in + δa * x / Lx - conditional(x/Lx > 0.5, 1.0, 0.0), Q\n",
    ")"
   ]
  },
  {
   "cell_type": "markdown",
   "metadata": {},
   "source": [
    "We'll wrap up the same loop as we had before in a function that takes in the model (Weertman or Schoof) as an argument.\n",
    "This saves a bit of repetition and makes it easier to parallelize later."
   ]
  },
  {
   "cell_type": "code",
   "execution_count": null,
   "metadata": {},
   "outputs": [],
   "source": [
    "num_years = 100\n",
    "timesteps_per_year = 2\n",
    "\n",
    "δt = 1.0 / timesteps_per_year\n",
    "num_timesteps = num_years * timesteps_per_year\n",
    "\n",
    "def run_simulation(solver, h, s, u, **kwargs):\n",
    "    for step in tqdm.trange(num_timesteps):\n",
    "        h = solver.prognostic_solve(\n",
    "            δt,\n",
    "            thickness=h,\n",
    "            velocity=u,\n",
    "            accumulation=a,\n",
    "            thickness_inflow=h0,\n",
    "        )\n",
    "        s = icepack.compute_surface(thickness=h, bed=b)\n",
    "        \n",
    "        u = solver.diagnostic_solve(\n",
    "            velocity=u,\n",
    "            thickness=h,\n",
    "            surface=s,\n",
    "            **kwargs,\n",
    "        )\n",
    "\n",
    "    return h, s, u\n",
    "\n",
    "h_weertman, s_weertman, u_weertman = run_simulation(\n",
    "    solver_weertman, h, s, u, fluidity=A, friction=C\n",
    ")\n",
    "\n",
    "h_schoof, s_schoof, u_schoof = run_simulation(\n",
    "    solver_schoof, h, s, u_schoof, fluidity=A, yield_stress=τ_0\n",
    ")"
   ]
  },
  {
   "cell_type": "markdown",
   "metadata": {},
   "source": [
    "Finally, we'll plot a transect of the difference in thickness between the Weertman and Schoof laws.\n",
    "The glacier loses more mass over the grounded region and less under the ice shelf with the Schoof law than with the Weertman law.\n",
    "When the sliding relation becomes more plastic, the bed can take up less of the increased driving stress resulting from steeper surface slopes, so that changes under the ice shelf are evident further upstream."
   ]
  },
  {
   "cell_type": "code",
   "execution_count": null,
   "metadata": {},
   "outputs": [],
   "source": [
    "hs_weertman = np.array(h_weertman.at(xs, tolerance=1e-10))\n",
    "hs_schoof = np.array(h_schoof.at(xs, tolerance=1e-10))\n",
    "\n",
    "fig, axes = plt.subplots()\n",
    "axes.plot(xs[:, 0] / 1e3, hs_weertman - hs_schoof, color=\"black\")\n",
    "axes.set_xlabel(\"distance along centerline (km)\")\n",
    "axes.set_ylabel(\"thickness difference (m)\");"
   ]
  },
  {
   "cell_type": "markdown",
   "metadata": {},
   "source": [
    "### Conclusion\n",
    "\n",
    "The Schoof sliding law is, arguably, more physically realistic than the Weertman sliding law for fast-flowing outlet glaciers or ice streams.\n",
    "While icepack defaults to using the Weertman sliding law, replacing it with the Schoof law consists of only a few lines of code.\n",
    "First, we have to write a function that calculates the energy dissipation from Schoof-type sliding.\n",
    "We then have to pass this function to the constructor of the `IceStream` model object we use to calculate the ice velocity.\n",
    "By passing in all the input fields to the `diagnostic_solve` method as keyword arguments, we don't have to rewrite or override any methods of `IceStream`, despite the fact that there are more input fields to the Schoof sliding law than there are for the Weertman law.\n",
    "\n",
    "In switching to the Schoof sliding law, we showed how the physics could be modified to take in a possibly arbitrary number of different fields beyond the default physics parameterization.\n",
    "These additional fields could themselves be computed by solving other PDEs.\n",
    "For example, we could define the basal shear stress to be a function of the effective water pressure, which would then solve for using some model of subglacial hydrology."
   ]
  }
 ],
 "metadata": {
  "kernelspec": {
   "display_name": "firedrake",
   "language": "python",
   "name": "firedrake"
  },
  "language_info": {
   "name": "python",
   "pygments_lexer": "ipython3"
  }
 },
 "nbformat": 4,
 "nbformat_minor": 2
}
